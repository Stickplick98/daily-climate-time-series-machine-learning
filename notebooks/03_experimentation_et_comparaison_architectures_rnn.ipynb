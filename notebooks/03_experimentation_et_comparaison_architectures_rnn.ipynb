{
 "cells": [
  {
   "cell_type": "markdown",
   "id": "f3f48344",
   "metadata": {},
   "source": [
    "# 3. Expérimentation et comparaison des architectures RNN"
   ]
  },
  {
   "cell_type": "markdown",
   "id": "9a37ca61",
   "metadata": {},
   "source": [
    "**Notebook suivant : Entrainement et compilation du modèle**\n",
    "\n",
    "👉 [Aller au Notebook suivant](04_entrainement_et_compilation.ipynb)"
   ]
  }
 ],
 "metadata": {
  "kernelspec": {
   "display_name": "venv",
   "language": "python",
   "name": "python3"
  },
  "language_info": {
   "name": "python",
   "version": "3.11.9"
  }
 },
 "nbformat": 4,
 "nbformat_minor": 5
}
