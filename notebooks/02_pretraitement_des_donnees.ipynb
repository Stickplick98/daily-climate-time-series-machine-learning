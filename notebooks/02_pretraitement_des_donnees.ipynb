{
 "cells": [
  {
   "cell_type": "markdown",
   "id": "2387a61c",
   "metadata": {},
   "source": [
    "# 2. Prétraitement des données"
   ]
  },
  {
   "cell_type": "markdown",
   "id": "a433697e",
   "metadata": {},
   "source": [
    "**Notebook suivant : Expérimentation et comparaison des architectures RNN**\n",
    "\n",
    "👉 [Aller au Notebook suivant](03_experimentation_et_comparaison_architectures_rnn.ipynb)"
   ]
  }
 ],
 "metadata": {
  "kernelspec": {
   "display_name": "venv",
   "language": "python",
   "name": "python3"
  },
  "language_info": {
   "name": "python",
   "version": "3.11.9"
  }
 },
 "nbformat": 4,
 "nbformat_minor": 5
}
