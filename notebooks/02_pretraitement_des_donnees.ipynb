{
 "cells": [
  {
   "cell_type": "markdown",
   "id": "2387a61c",
   "metadata": {},
   "source": [
    "# 2. Prétraitement des données"
   ]
  },
  {
   "cell_type": "markdown",
   "id": "53cb906b",
   "metadata": {},
   "source": [
    "## Suppression des données inutiles"
   ]
  },
  {
   "cell_type": "markdown",
   "id": "28c87394",
   "metadata": {},
   "source": [
    "Comme déjà précisé auparavant, nous n'avons besoin que de la colonne `meantemp`. Nous pouvons donc déjà supprimer les autres colonnes. Le seul point à bien vérifier est que les données sont bien triées par date, mais c'est déjà le cas.\n"
   ]
  },
  {
   "cell_type": "code",
   "execution_count": 25,
   "id": "ce98ef2d",
   "metadata": {},
   "outputs": [],
   "source": [
    "import pandas as pd\n",
    "\n",
    "df = pd.read_csv(\"../data/GlobalDataSet.csv\")\n",
    "\n",
    "df_meantemp = df[[\"meantemp\"]]\n",
    "\n",
    "df_meantemp.to_csv(\"../data/GlobalDataSetClean.csv\", index=False, header=False)"
   ]
  },
  {
   "cell_type": "markdown",
   "id": "b381a840",
   "metadata": {},
   "source": [
    "Nous avons donc maitenant un nouveau fichier comprenant uniquement la colonne `meantemp` : `data/GlobalDataSetClean.csv`"
   ]
  },
  {
   "cell_type": "markdown",
   "id": "62f61b29",
   "metadata": {},
   "source": [
    "## Normalisation\n",
    "\n",
    "Afin de permettre à notre modèle d'apprendre efficacement, il est nécessaire de normaliser les données.\n",
    "En effet, des valeurs trop extrêmes pourraient influencer de manière disproportionnée l'apprentissage du modèle.\n",
    "Nous avons donc choisi de normaliser les données selon un intervalle standard `[0;1]`.\n",
    "\n",
    "### Type de normalisation\n",
    "\n",
    "Deux façons de normaliser notre dataset s'offrent à nous :  \n",
    "- Soit sous forme de fenêtre,\n",
    "- Soit sur l’ensemble du dataset.\n",
    "\n",
    "Après analyse, on se rend compte qu’il n’est pas pertinent de normaliser par fenêtre.  \n",
    "En effet, cela reviendrait à placer sur la même échelle des séries comme `10, 20, 30` et `2, 4, 6`, qui deviendraient toutes deux `0, 0.5, 1`.  \n",
    "Or, dans notre cas, nous cherchons à prédire une valeur réelle, et non une variation.\n",
    "\n",
    "Nous devons donc appliquer une normalisation globale sur l’ensemble du dataset.\n"
   ]
  },
  {
   "cell_type": "code",
   "execution_count": 26,
   "id": "9886bc41",
   "metadata": {},
   "outputs": [],
   "source": [
    "from sklearn.preprocessing import MinMaxScaler\n",
    "\n",
    "df = pd.read_csv(\"../data/GlobalDataSetClean.csv\", header=None)\n",
    "\n",
    "scaler = MinMaxScaler()\n",
    "normalized_values = scaler.fit_transform(df)\n",
    "\n",
    "normalized_df = pd.DataFrame(normalized_values)\n",
    "\n",
    "normalized_df.to_csv(\"../data/GlobalDataSetNormalized.csv\", index=False, header=False)"
   ]
  },
  {
   "cell_type": "markdown",
   "id": "a2b83230",
   "metadata": {},
   "source": [
    "Nous avons donc maitenant un autre fichier `data/GlobalDataSetNormalized` avec les données normalisées"
   ]
  },
  {
   "cell_type": "markdown",
   "id": "6356da6d",
   "metadata": {},
   "source": [
    "## Fenêtrage\n",
    "\n",
    "Une autre partie importante est de fenêtrer nos données. En effet, nous ne voulons pas que notre modèle prédise une valeur en fonction des quatre dernières années. Il est plus judicieux de choisir une taille de fenêtre plus courte.\n",
    "\n",
    "Nous avons un peu de mal à décider de la taille de fenêtre idéale. Nos premières idées sont :\n",
    "\n",
    "- 7 jours pour un suivi hebdomadaire,  \n",
    "- 30 jours pour un suivi mensuel,  \n",
    "- 14 jours comme compromis possible.\n",
    "\n",
    "Après quelques recherches, nous allons essayer de calculer l’autocorrélation pour déterminer le choix le plus pertinent.\n",
    "\n",
    "\n"
   ]
  },
  {
   "cell_type": "code",
   "execution_count": 27,
   "id": "b0b76edf",
   "metadata": {},
   "outputs": [
    {
     "data": {
      "image/png": "[encoded data removed]",
      "text/plain": [
       "<Figure size 1000x500 with 1 Axes>"
      ]
     },
     "metadata": {},
     "output_type": "display_data"
    }
   ],
   "source": [
    "import matplotlib.pyplot as plt\n",
    "\n",
    "df = pd.read_csv(\"../data/GlobalDataset.csv\", parse_dates=['date'], index_col='date')\n",
    "\n",
    "\n",
    "serie = df['meantemp']\n",
    "\n",
    "max_lag = 30\n",
    "autocorrs = [serie.autocorr(lag=lag) for lag in range(1, max_lag + 1)]\n",
    "\n",
    "plt.figure(figsize=(10, 5))\n",
    "plt.bar(range(1, max_lag + 1), autocorrs)\n",
    "plt.title(\"Autocorrélation de la température quotidienne\")\n",
    "plt.xlabel(\"Décalage (jours)\")\n",
    "plt.ylabel(\"Corrélation\")\n",
    "plt.grid(True)\n",
    "plt.tight_layout()\n",
    "plt.show()"
   ]
  },
  {
   "cell_type": "markdown",
   "id": "930c6a19",
   "metadata": {},
   "source": [
    "Nous y voyons un peu plus clair : on observe que les quelques jours précédents présentent une forte corrélation avec la température du jour. Cependant, la corrélation reste élevée même jusqu'à un mois de décalage.\n",
    "\n",
    "Nous allons donc retenir une fenêtre de **14 jours**, qui nous semble être un bon compromis entre information et complexité du modèle.\n"
   ]
  },
  {
   "cell_type": "markdown",
   "id": "d3d22586",
   "metadata": {},
   "source": [
    "### Création du dataset fenêtré"
   ]
  },
  {
   "cell_type": "code",
   "execution_count": 28,
   "id": "48234ca4",
   "metadata": {},
   "outputs": [],
   "source": [
    "\n",
    "n = 14\n",
    "\n",
    "X = []\n",
    "y = []\n",
    "\n",
    "for i in range(n, len(normalized_df)):\n",
    "    window = normalized_df.iloc[i-n:i, 0].values  \n",
    "    target = normalized_df.iloc[i, 0]\n",
    "    X.append(window)\n",
    "    y.append(target)\n",
    "\n",
    "windowed_df = pd.DataFrame([list(x) + [y_val] for x, y_val in zip(X, y)], columns=columns)\n",
    "\n",
    "windowed_df.to_csv(\"../data/GlobalDataSetWindowed.csv\", index=False, header=False)"
   ]
  },
  {
   "cell_type": "markdown",
   "id": "fe432c80",
   "metadata": {},
   "source": [
    "Un Fichier avec les données fenêtrée a été créé : `data/GlobalDataSetWindowed.csv`"
   ]
  },
  {
   "cell_type": "markdown",
   "id": "d8c2dd76",
   "metadata": {},
   "source": [
    "## Préparation des différents dataset (Train, validation, test)"
   ]
  },
  {
   "cell_type": "code",
   "execution_count": 29,
   "id": "5a215e3b",
   "metadata": {},
   "outputs": [],
   "source": [
    "total_len = len(windowed_df)\n",
    "train_size = int(0.7 * total_len)\n",
    "val_size = int(0.15 * total_len)\n",
    "test_size = total_len - train_size - val_size  # Assure que tout est utilisé\n",
    "\n",
    "train_df = windowed_df.iloc[:train_size]\n",
    "val_df = windowed_df.iloc[train_size:train_size + val_size]\n",
    "test_df = windowed_df.iloc[train_size + val_size:]\n",
    "\n",
    "train_df.to_csv(\"../data/TrainDataSet.csv\", index=False, header=False)\n",
    "val_df.to_csv(\"../data/ValidationDataSet.csv\", index=False, header=False)\n",
    "test_df.to_csv(\"../data/TestDataSet.csv\", index=False, header=False)"
   ]
  },
  {
   "cell_type": "markdown",
   "id": "0a8f7d1a",
   "metadata": {},
   "source": [
    "Trois nouveaux fichiers ont été créés et représenteront les jeux de données finaux utilisés pour l'entraînement :\n",
    "\n",
    "- `data/TrainDataSet.csv`\n",
    "- `data/ValidationDataSet.csv`\n",
    "- `data/TestDataSet.csv`"
   ]
  },
  {
   "cell_type": "markdown",
   "id": "a433697e",
   "metadata": {},
   "source": [
    "**Notebook suivant : Expérimentation et comparaison des architectures RNN**\n",
    "\n",
    "👉 [Aller au Notebook suivant](03_experimentation_et_comparaison_architectures_rnn.ipynb)"
   ]
  }
 ],
 "metadata": {
  "kernelspec": {
   "display_name": "venv",
   "language": "python",
   "name": "python3"
  },
  "language_info": {
   "codemirror_mode": {
    "name": "ipython",
    "version": 3
   },
   "file_extension": ".py",
   "mimetype": "text/x-python",
   "name": "python",
   "nbconvert_exporter": "python",
   "pygments_lexer": "ipython3",
   "version": "3.11.9"
  }
 },
 "nbformat": 4,
 "nbformat_minor": 5
}
