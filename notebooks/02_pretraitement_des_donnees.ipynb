{
 "cells": [
  {
   "cell_type": "markdown",
   "id": "a433697e",
   "metadata": {},
   "source": [
    "**Notebook suivant : Expérimentation et comparaison des architectures RNN**\n",
    "\n",
    "👉 [Aller au Notebook 2 : Prétraitement](02_pretraitement.ipynb)"
   ]
  }
 ],
 "metadata": {
  "language_info": {
   "name": "python"
  }
 },
 "nbformat": 4,
 "nbformat_minor": 5
}
