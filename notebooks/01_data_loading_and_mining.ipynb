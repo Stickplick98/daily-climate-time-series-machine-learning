{
 "cells": [
  {
   "cell_type": "markdown",
   "id": "d4a45702",
   "metadata": {},
   "source": [
    "# Téléchargement du dataset depuis Kaggle"
   ]
  },
  {
   "cell_type": "code",
   "execution_count": 6,
   "id": "ba005b0f",
   "metadata": {},
   "outputs": [
    {
     "name": "stdout",
     "output_type": "stream",
     "text": [
      "Dataset URL: https://www.kaggle.com/datasets/sumanthvrao/daily-climate-time-series-data\n"
     ]
    }
   ],
   "source": [
    "import os\n",
    "from kaggle.api.kaggle_api_extended import KaggleApi\n",
    "from dotenv import load_dotenv\n",
    "\n",
    "def download_dataset(dataset_name, destination_dir=\"../data\"):\n",
    "    try:\n",
    "        if not os.path.exists(destination_dir):\n",
    "            os.makedirs(destination_dir)\n",
    "\n",
    "        api.dataset_download_files(dataset_name, path=destination_dir, unzip=True)\n",
    "\n",
    "    except Exception as e:\n",
    "        print(f\"Erreur lors du téléchargement : {e}\")\n",
    "\n",
    "\n",
    "\n",
    "load_dotenv()\n",
    "os.environ['KAGGLE_USERNAME'] = os.getenv('KAGGLE_USERNAME')\n",
    "os.environ['KAGGLE_KEY'] = os.getenv('KAGGLE_KEY')\n",
    "\n",
    "api = KaggleApi()\n",
    "\n",
    "try:\n",
    "    api.authenticate()\n",
    "    download_dataset(\"sumanthvrao/daily-climate-time-series-data\")\n",
    "    \n",
    "except Exception as e:\n",
    "    print(f\"Erreur d'authentification : {e}\")"
   ]
  },
  {
   "cell_type": "markdown",
   "id": "96e0d36e",
   "metadata": {},
   "source": [
    "Deux fichiers CSV ont été créés dans le dossier `data/` :\n",
    "\n",
    "- `DailyDelhiClimateTest.csv`  \n",
    "- `DailyDelhiClimateTrain.csv`  \n",
    "\n",
    "Les deux fichiers possèdent les mêmes propriétés ; la seule différence réside dans leur taille. Le fichier `DailyDelhiClimateTrain.csv` est destiné à l'entraînement complet du modèle, tandis que le fichier `DailyDelhiClimateTest.csv`, plus réduit, peut servir à l'étape de validation.  \n"
   ]
  }
 ],
 "metadata": {
  "kernelspec": {
   "display_name": "venv",
   "language": "python",
   "name": "python3"
  },
  "language_info": {
   "codemirror_mode": {
    "name": "ipython",
    "version": 3
   },
   "file_extension": ".py",
   "mimetype": "text/x-python",
   "name": "python",
   "nbconvert_exporter": "python",
   "pygments_lexer": "ipython3",
   "version": "3.11.9"
  }
 },
 "nbformat": 4,
 "nbformat_minor": 5
}
