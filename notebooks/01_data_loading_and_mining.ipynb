{
 "cells": [
  {
   "cell_type": "code",
   "execution_count": 1,
   "id": "ba005b0f",
   "metadata": {},
   "outputs": [
    {
     "name": "stdout",
     "output_type": "stream",
     "text": [
      "✅ Authentification réussie avec Kaggle.\n",
      "🚀 Téléchargement du dataset 'sumanthvrao/daily-climate-time-series-data' dans '../data'...\n",
      "Dataset URL: https://www.kaggle.com/datasets/sumanthvrao/daily-climate-time-series-data\n",
      "✅ Dataset téléchargé et extrait avec succès dans : ../data\n"
     ]
    }
   ],
   "source": [
    "import os\n",
    "from kaggle.api.kaggle_api_extended import KaggleApi\n",
    "from dotenv import load_dotenv\n",
    "\n",
    "def download_dataset(dataset_name, destination_dir=\"../data\"):\n",
    "    \"\"\"\n",
    "    Télécharge un dataset Kaggle dans le répertoire spécifié.\n",
    "\n",
    "    Args:\n",
    "        dataset_name (str): Nom du dataset sur Kaggle (ex: sumanthvrao/daily-climate-time-series-data).\n",
    "        destination_dir (str): Répertoire où stocker le dataset.\n",
    "    \"\"\"\n",
    "    try:\n",
    "        # Vérifier si le répertoire existe, sinon le créer\n",
    "        if not os.path.exists(destination_dir):\n",
    "            os.makedirs(destination_dir)\n",
    "\n",
    "        print(f\"🚀 Téléchargement du dataset '{dataset_name}' dans '{destination_dir}'...\")\n",
    "\n",
    "        # Télécharger les fichiers compressés\n",
    "        api.dataset_download_files(dataset_name, path=destination_dir, unzip=True)\n",
    "\n",
    "        print(f\"✅ Dataset téléchargé et extrait avec succès dans : {destination_dir}\")\n",
    "    except Exception as e:\n",
    "        print(f\"❌ Erreur lors du téléchargement : {e}\")\n",
    "\n",
    "\n",
    "\n",
    "# Charger les variables depuis le fichier .env\n",
    "load_dotenv()\n",
    "os.environ['KAGGLE_USERNAME'] = os.getenv('KAGGLE_USERNAME')\n",
    "os.environ['KAGGLE_KEY'] = os.getenv('KAGGLE_KEY')\n",
    "\n",
    "# Initialiser l'API Kaggle\n",
    "api = KaggleApi()\n",
    "try:\n",
    "    api.authenticate()\n",
    "    print(\"✅ Authentification réussie avec Kaggle.\")\n",
    "    download_dataset(\"sumanthvrao/daily-climate-time-series-data\")\n",
    "    \n",
    "except Exception as e:\n",
    "    print(f\"❌ Erreur d'authentification : {e}\")\n"
   ]
  }
 ],
 "metadata": {
  "kernelspec": {
   "display_name": "venv",
   "language": "python",
   "name": "python3"
  },
  "language_info": {
   "codemirror_mode": {
    "name": "ipython",
    "version": 3
   },
   "file_extension": ".py",
   "mimetype": "text/x-python",
   "name": "python",
   "nbconvert_exporter": "python",
   "pygments_lexer": "ipython3",
   "version": "3.11.9"
  }
 },
 "nbformat": 4,
 "nbformat_minor": 5
}
