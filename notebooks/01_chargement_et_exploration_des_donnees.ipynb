{
 "cells": [
  {
   "cell_type": "markdown",
   "id": "2cd61671",
   "metadata": {},
   "source": [
    "# 1. Chargement et exploration des données"
   ]
  },
  {
   "cell_type": "markdown",
   "id": "d4a45702",
   "metadata": {},
   "source": [
    "## Téléchargement des datasets depuis Kaggle"
   ]
  },
  {
   "cell_type": "code",
   "execution_count": 1,
   "id": "ba005b0f",
   "metadata": {},
   "outputs": [
    {
     "name": "stdout",
     "output_type": "stream",
     "text": [
      "Dataset URL: https://www.kaggle.com/datasets/sumanthvrao/daily-climate-time-series-data\n"
     ]
    }
   ],
   "source": [
    "import os\n",
    "from kaggle.api.kaggle_api_extended import KaggleApi\n",
    "from dotenv import load_dotenv\n",
    "import pandas as pd\n",
    "\n",
    "\n",
    "def download_dataset(dataset_name, destination_dir=\"../data\"):\n",
    "    try:\n",
    "        if not os.path.exists(destination_dir):\n",
    "            os.makedirs(destination_dir)\n",
    "\n",
    "        api.dataset_download_files(dataset_name, path=destination_dir, unzip=True)\n",
    "\n",
    "    except Exception as e:\n",
    "        print(f\"Erreur lors du téléchargement : {e}\")\n",
    "\n",
    "load_dotenv()\n",
    "os.environ['KAGGLE_USERNAME'] = os.getenv('KAGGLE_USERNAME')\n",
    "os.environ['KAGGLE_KEY'] = os.getenv('KAGGLE_KEY')\n",
    "\n",
    "api = KaggleApi()\n",
    "\n",
    "try:\n",
    "    api.authenticate()    \n",
    "except Exception as e:\n",
    "    print(f\"Erreur d'authentification : {e}\")\n",
    "\n",
    "try:\n",
    "    download_dataset(\"sumanthvrao/daily-climate-time-series-data\")\n",
    "except Exception as e:\n",
    "    print(f\"Erreur lors du téléchargement du dataset : {e}\")\n",
    "\n",
    "train_path = \"../data/DailyDelhiClimateTrain.csv\"\n",
    "test_path = \"../data/DailyDelhiClimateTest.csv\"\n",
    "\n",
    "try:\n",
    "    train_df = pd.read_csv(train_path)\n",
    "    test_df = pd.read_csv(test_path)\n",
    "except FileNotFoundError as e:\n",
    "    print(f\"Erreur lors du chargement des fichiers : {e}\")\n"
   ]
  },
  {
   "cell_type": "markdown",
   "id": "2e412558",
   "metadata": {},
   "source": [
    "Deux fichiers CSV ont été créés dans le dossier `data/` :\n",
    "\n",
    "- `DailyDelhiClimateTest.csv`\n",
    "- `DailyDelhiClimateTrain.csv`\n",
    "\n",
    "Les deux fichiers possèdent les mêmes propriétés ; la seule différence réside dans leur taille. Le fichier `DailyDelhiClimateTrain.csv` est destiné à l'entraînement complet du modèle, tandis que le fichier `DailyDelhiClimateTest.csv`, plus réduit, servira a testé le modèle. Il y aura aussi une étape de validation les données utilisées pour cette étape seront reprises (20%) du dataset d'entraînement lors du prétraitement des données"
   ]
  },
  {
   "cell_type": "markdown",
   "id": "af64d73a",
   "metadata": {},
   "source": [
    "### Apercu des fichiers"
   ]
  },
  {
   "cell_type": "code",
   "execution_count": 4,
   "id": "46560177",
   "metadata": {},
   "outputs": [
    {
     "name": "stdout",
     "output_type": "stream",
     "text": [
      "Aperçu fichier entrainement\n"
     ]
    },
    {
     "data": {
      "text/html": [
       "<div>\n",
       "<style scoped>\n",
       "    .dataframe tbody tr th:only-of-type {\n",
       "        vertical-align: middle;\n",
       "    }\n",
       "\n",
       "    .dataframe tbody tr th {\n",
       "        vertical-align: top;\n",
       "    }\n",
       "\n",
       "    .dataframe thead th {\n",
       "        text-align: right;\n",
       "    }\n",
       "</style>\n",
       "<table border=\"1\" class=\"dataframe\">\n",
       "  <thead>\n",
       "    <tr style=\"text-align: right;\">\n",
       "      <th></th>\n",
       "      <th>date</th>\n",
       "      <th>meantemp</th>\n",
       "      <th>humidity</th>\n",
       "      <th>wind_speed</th>\n",
       "      <th>meanpressure</th>\n",
       "    </tr>\n",
       "  </thead>\n",
       "  <tbody>\n",
       "    <tr>\n",
       "      <th>0</th>\n",
       "      <td>2013-01-01</td>\n",
       "      <td>10.000000</td>\n",
       "      <td>84.500000</td>\n",
       "      <td>0.000000</td>\n",
       "      <td>1015.666667</td>\n",
       "    </tr>\n",
       "    <tr>\n",
       "      <th>1</th>\n",
       "      <td>2013-01-02</td>\n",
       "      <td>7.400000</td>\n",
       "      <td>92.000000</td>\n",
       "      <td>2.980000</td>\n",
       "      <td>1017.800000</td>\n",
       "    </tr>\n",
       "    <tr>\n",
       "      <th>2</th>\n",
       "      <td>2013-01-03</td>\n",
       "      <td>7.166667</td>\n",
       "      <td>87.000000</td>\n",
       "      <td>4.633333</td>\n",
       "      <td>1018.666667</td>\n",
       "    </tr>\n",
       "    <tr>\n",
       "      <th>3</th>\n",
       "      <td>2013-01-04</td>\n",
       "      <td>8.666667</td>\n",
       "      <td>71.333333</td>\n",
       "      <td>1.233333</td>\n",
       "      <td>1017.166667</td>\n",
       "    </tr>\n",
       "    <tr>\n",
       "      <th>4</th>\n",
       "      <td>2013-01-05</td>\n",
       "      <td>6.000000</td>\n",
       "      <td>86.833333</td>\n",
       "      <td>3.700000</td>\n",
       "      <td>1016.500000</td>\n",
       "    </tr>\n",
       "  </tbody>\n",
       "</table>\n",
       "</div>"
      ],
      "text/plain": [
       "         date   meantemp   humidity  wind_speed  meanpressure\n",
       "0  2013-01-01  10.000000  84.500000    0.000000   1015.666667\n",
       "1  2013-01-02   7.400000  92.000000    2.980000   1017.800000\n",
       "2  2013-01-03   7.166667  87.000000    4.633333   1018.666667\n",
       "3  2013-01-04   8.666667  71.333333    1.233333   1017.166667\n",
       "4  2013-01-05   6.000000  86.833333    3.700000   1016.500000"
      ]
     },
     "metadata": {},
     "output_type": "display_data"
    },
    {
     "name": "stdout",
     "output_type": "stream",
     "text": [
      "Aperçu fichier de test\n"
     ]
    },
    {
     "data": {
      "text/html": [
       "<div>\n",
       "<style scoped>\n",
       "    .dataframe tbody tr th:only-of-type {\n",
       "        vertical-align: middle;\n",
       "    }\n",
       "\n",
       "    .dataframe tbody tr th {\n",
       "        vertical-align: top;\n",
       "    }\n",
       "\n",
       "    .dataframe thead th {\n",
       "        text-align: right;\n",
       "    }\n",
       "</style>\n",
       "<table border=\"1\" class=\"dataframe\">\n",
       "  <thead>\n",
       "    <tr style=\"text-align: right;\">\n",
       "      <th></th>\n",
       "      <th>date</th>\n",
       "      <th>meantemp</th>\n",
       "      <th>humidity</th>\n",
       "      <th>wind_speed</th>\n",
       "      <th>meanpressure</th>\n",
       "    </tr>\n",
       "  </thead>\n",
       "  <tbody>\n",
       "    <tr>\n",
       "      <th>0</th>\n",
       "      <td>2017-01-01</td>\n",
       "      <td>15.913043</td>\n",
       "      <td>85.869565</td>\n",
       "      <td>2.743478</td>\n",
       "      <td>59.000000</td>\n",
       "    </tr>\n",
       "    <tr>\n",
       "      <th>1</th>\n",
       "      <td>2017-01-02</td>\n",
       "      <td>18.500000</td>\n",
       "      <td>77.222222</td>\n",
       "      <td>2.894444</td>\n",
       "      <td>1018.277778</td>\n",
       "    </tr>\n",
       "    <tr>\n",
       "      <th>2</th>\n",
       "      <td>2017-01-03</td>\n",
       "      <td>17.111111</td>\n",
       "      <td>81.888889</td>\n",
       "      <td>4.016667</td>\n",
       "      <td>1018.333333</td>\n",
       "    </tr>\n",
       "    <tr>\n",
       "      <th>3</th>\n",
       "      <td>2017-01-04</td>\n",
       "      <td>18.700000</td>\n",
       "      <td>70.050000</td>\n",
       "      <td>4.545000</td>\n",
       "      <td>1015.700000</td>\n",
       "    </tr>\n",
       "    <tr>\n",
       "      <th>4</th>\n",
       "      <td>2017-01-05</td>\n",
       "      <td>18.388889</td>\n",
       "      <td>74.944444</td>\n",
       "      <td>3.300000</td>\n",
       "      <td>1014.333333</td>\n",
       "    </tr>\n",
       "  </tbody>\n",
       "</table>\n",
       "</div>"
      ],
      "text/plain": [
       "         date   meantemp   humidity  wind_speed  meanpressure\n",
       "0  2017-01-01  15.913043  85.869565    2.743478     59.000000\n",
       "1  2017-01-02  18.500000  77.222222    2.894444   1018.277778\n",
       "2  2017-01-03  17.111111  81.888889    4.016667   1018.333333\n",
       "3  2017-01-04  18.700000  70.050000    4.545000   1015.700000\n",
       "4  2017-01-05  18.388889  74.944444    3.300000   1014.333333"
      ]
     },
     "metadata": {},
     "output_type": "display_data"
    }
   ],
   "source": [
    "print(\"Aperçu fichier entrainement\")\n",
    "display(train_df.head())\n",
    "\n",
    "print(\"Aperçu fichier de test\")\n",
    "display(test_df.head())"
   ]
  },
  {
   "cell_type": "markdown",
   "id": "19855daf",
   "metadata": {},
   "source": [
    "Nous nous intéresserons ici seulement à la colonne `meantemp`, qui représente la température moyenne.\n",
    "\n",
    "Nous remarquons que les deux fichiers suivent le même format.\n",
    "\n",
    "Nous remarquons aussi que le fichier de test n'est que la suite logique du fichier d'entraînement :  \n",
    "le fichier d'entraînement se termine le 1er janvier 2017 et le fichier de test commence le même jour."
   ]
  },
  {
   "cell_type": "markdown",
   "id": "27a9f89d",
   "metadata": {},
   "source": [
    "## Exploration des données\n",
    "\n",
    "### Simplification des datasets\n",
    "\n",
    "Afin de simplifier l'exploration des données, et étant donné que les deux fichiers sont successifs et suivent le même format, nous allons créer un dataset unique en plaçant le dataset de test à la suite du dataset d'entraînement.\n",
    "\n",
    "Nous remarquons un premier problème : la dernière ligne du fichier d'entraînement, datée du 01/01/2017, n'est pas identique à la première ligne du fichier de test, également datée du 01/01/2017.\n"
   ]
  },
  {
   "cell_type": "markdown",
   "id": "cdc5286b",
   "metadata": {},
   "source": [
    "- Fin du fichier d'entrainement"
   ]
  },
  {
   "cell_type": "code",
   "execution_count": 22,
   "id": "293475d4",
   "metadata": {},
   "outputs": [
    {
     "name": "stdout",
     "output_type": "stream",
     "text": [
      "           date   meantemp\n",
      "1457 2016-12-28  17.217391\n",
      "1458 2016-12-29  15.238095\n",
      "1459 2016-12-30  14.095238\n",
      "1460 2016-12-31  15.052632\n",
      "1461 2017-01-01  10.000000\n"
     ]
    }
   ],
   "source": [
    "print(train_df[[\"date\", \"meantemp\"]].tail())"
   ]
  },
  {
   "cell_type": "markdown",
   "id": "e4892173",
   "metadata": {},
   "source": [
    "- Début du fichier de test"
   ]
  },
  {
   "cell_type": "code",
   "execution_count": 20,
   "id": "592e85f4",
   "metadata": {},
   "outputs": [
    {
     "name": "stdout",
     "output_type": "stream",
     "text": [
      "         date   meantemp\n",
      "0  2017-01-01  15.913043\n",
      "1  2017-01-02  18.500000\n",
      "2  2017-01-03  17.111111\n",
      "3  2017-01-04  18.700000\n",
      "4  2017-01-05  18.388889\n"
     ]
    }
   ],
   "source": [
    "print(test_df[[\"date\", \"meantemp\"]].head())"
   ]
  },
  {
   "cell_type": "markdown",
   "id": "a95498bd",
   "metadata": {},
   "source": [
    "On se rend vite compte que la ligne incorrecte est la dernière du dataset d'entraînement, avec une valeur parfaitement ronde qui n'a pas de sens si l'on regarde les températures précédentes et suivantes.\n",
    "\n",
    "Nous pouvons donc maintenant :\n",
    "\n",
    "- Supprimer la dernière ligne du fichier d'entraînement ;\n",
    "- Créer un dataset global contenant la succession des deux datasets et l'enregistrer."
   ]
  },
  {
   "cell_type": "markdown",
   "id": "09e63098",
   "metadata": {},
   "source": [
    "1. Suppression de la derniere ligne du fichier d'entrainement"
   ]
  },
  {
   "cell_type": "code",
   "execution_count": 24,
   "id": "3a14a9fe",
   "metadata": {},
   "outputs": [],
   "source": [
    "df = pd.read_csv(train_path)\n",
    "\n",
    "df = df[:-1]\n",
    "\n",
    "df.to_csv(train_path, index=False)"
   ]
  },
  {
   "cell_type": "markdown",
   "id": "12c64370",
   "metadata": {},
   "source": [
    "2. Creer un dataset global"
   ]
  },
  {
   "cell_type": "code",
   "execution_count": 3,
   "id": "98496194",
   "metadata": {},
   "outputs": [],
   "source": [
    "train_df = pd.read_csv(train_path)\n",
    "test_df = pd.read_csv(test_path)\n",
    "\n",
    "global_df = pd.concat([train_df, test_df], ignore_index=True)\n",
    "\n",
    "global_df.to_csv(\"../data/GlobalDataSet.csv\", index=False)"
   ]
  },
  {
   "cell_type": "markdown",
   "id": "a35a447b",
   "metadata": {},
   "source": [
    "### Valeurs manquantes\n",
    "\n",
    "Voyons maintenant si des valeurs sont manquantes dans la colonne qui nous interesse : `meantemp`"
   ]
  },
  {
   "cell_type": "code",
   "execution_count": 30,
   "id": "f85b553a",
   "metadata": {},
   "outputs": [
    {
     "name": "stdout",
     "output_type": "stream",
     "text": [
      "La colonne ne contient aucune valeur manquante\n"
     ]
    }
   ],
   "source": [
    "isAnyValueMissing = global_df[\"meantemp\"].isnull().any()\n",
    "\n",
    "if isAnyValueMissing:\n",
    "    print(\"Il y a au moins une valeur manquante\")\n",
    "else:\n",
    "    print(\"La colonne ne contient aucune valeur manquante\")"
   ]
  },
  {
   "cell_type": "markdown",
   "id": "3daa956a",
   "metadata": {},
   "source": [
    "Nous remarquons donc aucune valeur manquante."
   ]
  },
  {
   "cell_type": "markdown",
   "id": "732b27ac",
   "metadata": {},
   "source": [
    "### Valeurs abérrantes\n",
    "\n",
    "Voyons si des valeurs abérrantes se trouvent dans les fichiers commençons par analyser le minimum/maximum"
   ]
  },
  {
   "cell_type": "markdown",
   "id": "96da5cbb",
   "metadata": {},
   "source": [
    "#### Min/Max"
   ]
  },
  {
   "cell_type": "code",
   "execution_count": 31,
   "id": "943d9985",
   "metadata": {},
   "outputs": [
    {
     "name": "stdout",
     "output_type": "stream",
     "text": [
      "count    1575.000000\n",
      "mean       25.231582\n",
      "std         7.337316\n",
      "min         6.000000\n",
      "25%        18.516667\n",
      "50%        27.166667\n",
      "75%        31.142857\n",
      "max        38.714286\n",
      "Name: meantemp, dtype: float64\n"
     ]
    }
   ],
   "source": [
    "print(global_df[\"meantemp\"].describe())"
   ]
  },
  {
   "cell_type": "markdown",
   "id": "89a7e3e8",
   "metadata": {},
   "source": [
    "Les températures varient entre `6°C` et `38.71°C`. Ces valeurs sont totalement plausible"
   ]
  },
  {
   "cell_type": "markdown",
   "id": "67647c9f",
   "metadata": {},
   "source": [
    "#### Saut de valeur trop important\n",
    "\n",
    "Il est aussi intéressant de vérifier s’il n'existe pas des sauts de valeur aberrants, comme par exemple un passage de `0°C` à `30°C` en une seule journée.\n",
    "\n",
    "Commençons par analyser le saut le plus important.\n"
   ]
  },
  {
   "cell_type": "code",
   "execution_count": 32,
   "id": "6686c397",
   "metadata": {},
   "outputs": [
    {
     "name": "stdout",
     "output_type": "stream",
     "text": [
      "Max saut observé : 10.625\n"
     ]
    }
   ],
   "source": [
    "diffs = global_df[\"meantemp\"].diff().abs()\n",
    "print(\"Max saut observé :\", diffs.max())"
   ]
  },
  {
   "cell_type": "markdown",
   "id": "123b5fc9",
   "metadata": {},
   "source": [
    "On remarque dans le dataset un saut de `10°C` d’un jour à l’autre, ce qui semble important, bien que possible. Nous allons donc essayer d’examiner cela de plus près.\n",
    "\n",
    "Commençons par analyser combien de fois ce type de saut se produit.  \n",
    "Prenons dans un premier temps un seuil de `7°C`."
   ]
  },
  {
   "cell_type": "code",
   "execution_count": null,
   "id": "4a54ab13",
   "metadata": {},
   "outputs": [
    {
     "name": "stdout",
     "output_type": "stream",
     "text": [
      "Nombre de sauts supérieurs à 7°C : 2\n"
     ]
    }
   ],
   "source": [
    "seuil = 7\n",
    "\n",
    "diffs = global_df[\"meantemp\"].diff().abs()\n",
    "\n",
    "nombre_sauts = (diffs > seuil).sum()\n",
    "\n",
    "print(f\"Nombre de sauts supérieurs à {seuil}°C : {nombre_sauts}\")"
   ]
  },
  {
   "cell_type": "markdown",
   "id": "c7c5eb1b",
   "metadata": {},
   "source": [
    "Nous avons identifié deux valeurs présentant un saut important.  \n",
    "C’est bon signe, car même s’il y a une ou deux erreurs, celles-ci n’affecteront pas significativement notre modèle.\n",
    "\n",
    "Par curiosité, nous allons tout de même nous renseigner sur ces deux sauts.\n",
    "\n",
    "Commençons par identifier les dates de ces deux sauts :\n"
   ]
  },
  {
   "cell_type": "code",
   "execution_count": 41,
   "id": "fde68149",
   "metadata": {},
   "outputs": [
    {
     "name": "stdout",
     "output_type": "stream",
     "text": [
      "2015-06-25 → saut de 10.62°C\n",
      "2015-07-06 → saut de 7.84°C\n"
     ]
    }
   ],
   "source": [
    "saut_indices = diffs[diffs > seuil].index\n",
    "\n",
    "dates_sauts = global_df.loc[saut_indices, \"date\"]\n",
    "\n",
    "for i in saut_indices:\n",
    "    date = global_df.loc[i, \"date\"]\n",
    "    valeur_saut = diffs.loc[i]\n",
    "    print(f\"{date} → saut de {valeur_saut:.2f}°C\")"
   ]
  },
  {
   "cell_type": "markdown",
   "id": "ce62dda0",
   "metadata": {},
   "source": [
    "Bien que les sauts de température observés à New Delhi les 25 juin (+10,62°C) et 6 juillet 2015 (+7,84°C) soient impressionnants.\n",
    "\n",
    "- L'écart de 7.84° semble bien réel\n",
    "- L’écart du 25 juin est probablement surestimé avec une valeur réelle plus proche de 6–7°C\n",
    "- Ce saut pourrait être dû à une mauvaise pondération de la moyenne journalière ou à des données influencées par des conditions météorologiques ponctuelles (il y avait de la pluie et certains disent un orage)).\n",
    "- New Delhi étant une très grande métropole (plus de 1 400 km² les différences de température entre quartiers ainsi que l’origine exacte des mesures peuvent jouer un rôle important dans l’interprétation de ces données.\n",
    "\n",
    "Sources :\n",
    "- [Time and Date – Historique météo juin 2015 à New Delhi](https://www.timeanddate.com/weather/india/new-delhi/historic?month=6&year=2015)\n",
    "- [Weather Underground – Historique quotidien 24 juin 2015](https://www.wunderground.com/history/weekly/in/new-delhi/VIDP/date/2015-6-24)\n",
    "\n",
    "Nous ne modifierons pas la donnée, même si elle semble peu probable, car son **impact reste très limité**."
   ]
  },
  {
   "cell_type": "markdown",
   "id": "616644b9",
   "metadata": {},
   "source": [
    "### Fréquence des données"
   ]
  },
  {
   "cell_type": "code",
   "execution_count": 42,
   "id": "bda3734a",
   "metadata": {},
   "outputs": [
    {
     "name": "stdout",
     "output_type": "stream",
     "text": [
      "date\n",
      "1 days    1574\n",
      "Name: count, dtype: int64\n"
     ]
    }
   ],
   "source": [
    "global_df[\"date\"] = pd.to_datetime(global_df[\"date\"])\n",
    "\n",
    "diffs = global_df[\"date\"].diff()\n",
    "\n",
    "print(diffs.value_counts())"
   ]
  },
  {
   "cell_type": "markdown",
   "id": "918efadb",
   "metadata": {},
   "source": [
    "On remarque que la fréquence des données est constante, avec un intervalle d’un jour entre chaque enregistrement.\n",
    "Cela signifie que le jeu de données est à **fréquence quotidienne**."
   ]
  },
  {
   "cell_type": "markdown",
   "id": "216e6ac3",
   "metadata": {},
   "source": [
    "### Tendance"
   ]
  },
  {
   "cell_type": "code",
   "execution_count": null,
   "id": "46d69640",
   "metadata": {},
   "outputs": [
    {
     "data": {
      "image/png": "[encoded data removed]",
      "text/plain": [
       "<Figure size 1200x600 with 1 Axes>"
      ]
     },
     "metadata": {},
     "output_type": "display_data"
    }
   ],
   "source": [
    "import matplotlib.pyplot as plt\n",
    "import pandas as pd\n",
    "\n",
    "# Tracer\n",
    "plt.figure(figsize=(12, 6))\n",
    "plt.plot(global_df[\"date\"], global_df[\"meantemp\"])\n",
    "plt.title(\"Tendance de la température moyenne\")\n",
    "plt.xlabel(\"Date\")\n",
    "plt.ylabel(\"Température moyenne (°C)\")\n",
    "plt.xlim(global_df[\"date\"].min(), global_df[\"date\"].max()) \n",
    "plt.show()\n"
   ]
  },
  {
   "cell_type": "markdown",
   "id": "9e7dc8d8",
   "metadata": {},
   "source": [
    "Le graphique de la température moyenne journalière met en évidence un cycle claire, avec une hausse progressive des températures au printemps, un pic en été, suivi d’une baisse en automne et en hiver, qui se répète chaque année."
   ]
  },
  {
   "cell_type": "markdown",
   "id": "a44fa80a",
   "metadata": {},
   "source": [
    "### Saisonalité"
   ]
  },
  {
   "cell_type": "code",
   "execution_count": 4,
   "id": "2e60b292",
   "metadata": {},
   "outputs": [
    {
     "data": {
      "image/png": "[encoded data removed]",
      "text/plain": [
       "<Figure size 1000x600 with 1 Axes>"
      ]
     },
     "metadata": {},
     "output_type": "display_data"
    }
   ],
   "source": [
    "import matplotlib.pyplot as plt\n",
    "\n",
    "import calendar\n",
    "\n",
    "global_df[\"date\"] = pd.to_datetime(global_df[\"date\"])\n",
    "\n",
    "global_df[\"month\"] = global_df[\"date\"].dt.month\n",
    "monthly_avg = global_df.groupby(\"month\")[\"meantemp\"].mean()\n",
    "\n",
    "\n",
    "plt.figure(figsize=(10, 6)) \n",
    "\n",
    "monthly_avg.plot(kind=\"bar\")\n",
    "\n",
    "plt.xticks(ticks=range(12), labels=[calendar.month_name[i+1] for i in range(12)])\n",
    "\n",
    "plt.title(\"Température moyenne par mois (saisonnalité)\")\n",
    "plt.xlabel(\"Mois\")\n",
    "plt.ylabel(\"Température moyenne (°C)\")\n",
    "plt.show()"
   ]
  },
  {
   "cell_type": "markdown",
   "id": "989b90de",
   "metadata": {},
   "source": [
    "Les températures sont les plus basses en hiver (janvier, décembre), augmentent progressivement au printemps, atteignent un maximum en mai-juin, puis redescendent vers l’automne et l’hiver."
   ]
  },
  {
   "cell_type": "markdown",
   "id": "85025d33",
   "metadata": {},
   "source": [
    "**Notebook suivant : Prétraitement des données**\n",
    "\n",
    "👉 [Aller au Notebook suivant](02_pretraitement_des_donnees.ipynb)\n"
   ]
  }
 ],
 "metadata": {
  "kernelspec": {
   "display_name": "venv",
   "language": "python",
   "name": "python3"
  },
  "language_info": {
   "codemirror_mode": {
    "name": "ipython",
    "version": 3
   },
   "file_extension": ".py",
   "mimetype": "text/x-python",
   "name": "python",
   "nbconvert_exporter": "python",
   "pygments_lexer": "ipython3",
   "version": "3.11.9"
  }
 },
 "nbformat": 4,
 "nbformat_minor": 5
}
