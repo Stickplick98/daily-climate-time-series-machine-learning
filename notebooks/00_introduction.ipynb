{
 "cells": [
  {
   "cell_type": "markdown",
   "id": "2164c08c",
   "metadata": {},
   "source": [
    "# Introduction\n",
    "\n",
    "## ⚙️ Configuration initiale\n",
    "\n",
    "Avant de continuer la lecture, une configuration est requise pour que le projet fonctionne correctement. Si ce n'est pas encore fait :  \n",
    "➡️ Rendez-vous sur le [README](../README.md)\n",
    "\n",
    "## 📝 Énoncé du projet\n",
    "\n",
    "Ce projet a pour but de **prédire la température minimale quotidienne du jour suivant** à l’aide de **réseaux de neurones récurrents (RNNs)**.  \n",
    "\n",
    "Nous travaillons avec le dataset **Daily Climate Time Series**, disponible sur Kaggle.\n",
    "\n",
    "📄 L'énoncé complet se trouve ici : [ConsignesProjet.pdf](ConsignesProjet.pdf)\n",
    "\n",
    "## 📚 Table des matières\n",
    "\n",
    "1. 📥 [Chargement et exploration des données](./01_chargement_et_exploration_des_donnees.ipynb)\n",
    "2. 🧹 [Prétraitement](./02_pretraitement_des_donnees.ipynb)\n",
    "3. 🧪 [Expérimentation et comparaison](./03_experimentation_et_comparaison_architectures_rnn.ipynb)\n",
    "4. 📊 [Évaluation et analyse](./05_evaluation_et_analyse.ipynb)\n",
    "\n",
    "### 📦  Dépendances\n",
    "\n",
    "- **pandas** : manipulation et analyse des données, notamment pour la lecture et l’écriture de fichiers CSV.  \n",
    "- **numpy** : calculs numériques et manipulation efficace de tableaux multidimensionnels.  \n",
    "- **matplotlib** : création de graphiques et visualisation des résultats.  \n",
    "- **scikit-learn (sklearn)** : utilisé uniquement pour la normalisation des données.  \n",
    "- **tensorflow (avec Keras)** : construction et entraînement des réseaux de neurones profonds.  \n",
    "- **python-dotenv** : gestion des variables d’environnement via le fichier `.env`.  \n",
    "- **kaggle** : interface pour accéder facilement aux datasets et compétitions Kaggle.\n",
    "\n",
    "## 🚀 Commencer\n",
    "\n",
    "**1er Notebook : Chargement et exploration des données**\n",
    "\n",
    "👉 [Aller au 1er Notebook](./01_chargement_et_exploration_des_donnees.ipynb)\n",
    "\n"
   ]
  }
 ],
 "metadata": {
  "language_info": {
   "name": "python"
  }
 },
 "nbformat": 4,
 "nbformat_minor": 5
}
